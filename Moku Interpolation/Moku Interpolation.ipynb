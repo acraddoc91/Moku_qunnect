{
 "cells": [
  {
   "cell_type": "code",
   "execution_count": 8,
   "metadata": {},
   "outputs": [],
   "source": [
    "import numpy as np\n",
    "from matplotlib import pyplot as plt\n",
    "from scipy.interpolate import interp1d\n",
    "import pickle"
   ]
  },
  {
   "cell_type": "code",
   "execution_count": 2,
   "metadata": {},
   "outputs": [],
   "source": [
    "# Get the power and modulation from CSV files\n",
    "ao_modulation = np.genfromtxt('AO_modulation.csv', delimiter=',')\n",
    "optical_power = np.genfromtxt('Optical_Power.csv', delimiter=',')"
   ]
  },
  {
   "cell_type": "code",
   "execution_count": 3,
   "metadata": {},
   "outputs": [],
   "source": [
    "# Rescale the optical power\n",
    "rescaled_optical = optical_power[:,1]-min(optical_power[:,1])\n",
    "rescaled_optical = rescaled_optical/max(rescaled_optical)\n",
    "\n",
    "# Pull out AO modulation\n",
    "ao_mod = ao_modulation[:,1]"
   ]
  },
  {
   "cell_type": "code",
   "execution_count": 4,
   "metadata": {},
   "outputs": [
    {
     "data": {
      "image/png": "[encoded data removed]",
      "text/plain": [
       "<Figure size 432x288 with 1 Axes>"
      ]
     },
     "metadata": {
      "needs_background": "light"
     },
     "output_type": "display_data"
    }
   ],
   "source": [
    "# Plot things up\n",
    "plt.plot(ao_mod,rescaled_optical)\n",
    "plt.show()"
   ]
  },
  {
   "cell_type": "code",
   "execution_count": 5,
   "metadata": {},
   "outputs": [],
   "source": [
    "# Get rid of non-unique indices so we can interpolate\n",
    "_, indices = np.unique(rescaled_optical,return_index=True)\n",
    "\n",
    "rescaled_optical_unique = rescaled_optical[indices]\n",
    "ao_mod_unique = ao_mod[indices]"
   ]
  },
  {
   "cell_type": "code",
   "execution_count": 6,
   "metadata": {},
   "outputs": [],
   "source": [
    "# Do the interpolation\n",
    "op_to_ao = interp1d(rescaled_optical_unique,ao_mod_unique,kind='cubic')"
   ]
  },
  {
   "cell_type": "code",
   "execution_count": 7,
   "metadata": {},
   "outputs": [
    {
     "data": {
      "image/png": "[encoded data removed]",
      "text/plain": [
       "<Figure size 432x288 with 1 Axes>"
      ]
     },
     "metadata": {
      "needs_background": "light"
     },
     "output_type": "display_data"
    }
   ],
   "source": [
    "# Check the interpolation works\n",
    "plt.plot(ao_mod,rescaled_optical)\n",
    "plt.plot(op_to_ao(rescaled_optical),rescaled_optical)\n",
    "plt.show()"
   ]
  },
  {
   "cell_type": "code",
   "execution_count": 11,
   "metadata": {},
   "outputs": [],
   "source": [
    "# Dump to pickle file\n",
    "pickle.dump(op_to_ao,open('ao_interpolation.pck','wb'))"
   ]
  },
  {
   "cell_type": "code",
   "execution_count": null,
   "metadata": {},
   "outputs": [],
   "source": []
  }
 ],
 "metadata": {
  "kernelspec": {
   "display_name": "Python 3",
   "language": "python",
   "name": "python3"
  },
  "language_info": {
   "codemirror_mode": {
    "name": "ipython",
    "version": 3
   },
   "file_extension": ".py",
   "mimetype": "text/x-python",
   "name": "python",
   "nbconvert_exporter": "python",
   "pygments_lexer": "ipython3",
   "version": "3.8.5"
  }
 },
 "nbformat": 4,
 "nbformat_minor": 4
}
